{
 "cells": [
  {
   "cell_type": "code",
   "execution_count": 2,
   "metadata": {},
   "outputs": [],
   "source": [
    "import requests\n",
    "from bs4 import BeautifulSoup"
   ]
  },
  {
   "cell_type": "code",
   "execution_count": 3,
   "metadata": {},
   "outputs": [],
   "source": [
    "standings_url = \"https://fbref.com/en/comps/12/La-Liga-Stats\"\n",
    "url_data = requests.get(standings_url)\n",
    "soup = BeautifulSoup(url_data.text)\n",
    "standings_table = soup.select('table.stats_table')[0]"
   ]
  },
  {
   "cell_type": "code",
   "execution_count": 4,
   "metadata": {},
   "outputs": [],
   "source": [
    "links = standings_table.find_all('a')\n",
    "links = [l.get(\"href\") for l in links]\n",
    "links = [l for l in links if \"/squads/\" in l]"
   ]
  },
  {
   "cell_type": "code",
   "execution_count": 5,
   "metadata": {},
   "outputs": [
    {
     "data": {
      "text/plain": [
       "['/en/squads/53a2f082/Real-Madrid-Stats',\n",
       " '/en/squads/9024a00a/Girona-Stats',\n",
       " '/en/squads/db3b9613/Atletico-Madrid-Stats',\n",
       " '/en/squads/206d90db/Barcelona-Stats',\n",
       " '/en/squads/2b390eca/Athletic-Club-Stats',\n",
       " '/en/squads/e31d1cd9/Real-Sociedad-Stats',\n",
       " '/en/squads/fc536746/Real-Betis-Stats',\n",
       " '/en/squads/7848bd64/Getafe-Stats',\n",
       " '/en/squads/0049d422/Las-Palmas-Stats',\n",
       " '/en/squads/dcc91a7b/Valencia-Stats',\n",
       " '/en/squads/98e8af82/Rayo-Vallecano-Stats',\n",
       " '/en/squads/03c57e2b/Osasuna-Stats',\n",
       " '/en/squads/2a8183b3/Villarreal-Stats',\n",
       " '/en/squads/2aa12281/Mallorca-Stats',\n",
       " '/en/squads/ad2be733/Sevilla-Stats',\n",
       " '/en/squads/8d6fd021/Alaves-Stats',\n",
       " '/en/squads/ee7c297c/Cadiz-Stats',\n",
       " '/en/squads/f25da7fb/Celta-Vigo-Stats',\n",
       " '/en/squads/a0435291/Granada-Stats',\n",
       " '/en/squads/78ecf4bb/Almeria-Stats']"
      ]
     },
     "execution_count": 5,
     "metadata": {},
     "output_type": "execute_result"
    }
   ],
   "source": [
    "team_url = team_url"
   ]
  }
 ],
 "metadata": {
  "kernelspec": {
   "display_name": "Python 3",
   "language": "python",
   "name": "python3"
  },
  "language_info": {
   "codemirror_mode": {
    "name": "ipython",
    "version": 3
   },
   "file_extension": ".py",
   "mimetype": "text/x-python",
   "name": "python",
   "nbconvert_exporter": "python",
   "pygments_lexer": "ipython3",
   "version": "3.10.7"
  }
 },
 "nbformat": 4,
 "nbformat_minor": 2
}
